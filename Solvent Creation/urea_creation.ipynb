{
 "cells": [
  {
   "cell_type": "code",
   "execution_count": null,
   "id": "5824c363",
   "metadata": {},
   "outputs": [],
   "source": [
    "import nglview as ng\n",
    "import pandas as pd"
   ]
  },
  {
   "cell_type": "code",
   "execution_count": null,
   "id": "d036c174",
   "metadata": {},
   "outputs": [],
   "source": [
    "%cd data_urea"
   ]
  },
  {
   "cell_type": "code",
   "execution_count": null,
   "id": "ab4c71f7",
   "metadata": {},
   "outputs": [],
   "source": [
    "!gmx editconf -f MOL.amb2gmx/UREA_GMX.gro -o box1.gro -box 4 3 4"
   ]
  },
  {
   "cell_type": "code",
   "execution_count": null,
   "id": "0e78aebf",
   "metadata": {},
   "outputs": [],
   "source": [
    "!gmx insert-molecules -f box1.gro -ci MOL.amb2gmx/UREA_GMX.gro -o box2.gro -nmol 299 -try 100"
   ]
  },
  {
   "cell_type": "code",
   "execution_count": null,
   "id": "d25c0bcf",
   "metadata": {},
   "outputs": [],
   "source": [
    "view = ng.show_structure_file(\"box2.gro\")\n",
    "view"
   ]
  },
  {
   "cell_type": "code",
   "execution_count": null,
   "id": "bf7e7371",
   "metadata": {},
   "outputs": [],
   "source": [
    "!cat input/emin-urea.mdp"
   ]
  },
  {
   "cell_type": "code",
   "execution_count": null,
   "id": "69c3aa62",
   "metadata": {},
   "outputs": [],
   "source": [
    "!gmx grompp -f input/emin-urea.mdp -c box2.gro -p URE300.top -o em.tpr\n",
    "!gmx mdrun -deffnm em"
   ]
  },
  {
   "cell_type": "code",
   "execution_count": null,
   "id": "f31672ff",
   "metadata": {},
   "outputs": [],
   "source": [
    "!cat input/nvt-urea.mdp"
   ]
  },
  {
   "cell_type": "code",
   "execution_count": null,
   "id": "9eece8c7",
   "metadata": {},
   "outputs": [],
   "source": [
    "!gmx grompp -f input/nvt-urea.mdp -c em.gro -r em.gro -p URE300.top -o nvt.tpr \n",
    "!gmx mdrun -ntmpi 1 -v -deffnm nvt"
   ]
  },
  {
   "cell_type": "code",
   "execution_count": null,
   "id": "f162de62",
   "metadata": {},
   "outputs": [],
   "source": [
    "!echo \"Temperature\" | gmx energy -f nvt.edr -o temperature.xvg -xvg none"
   ]
  },
  {
   "cell_type": "code",
   "execution_count": null,
   "id": "d75f92a2",
   "metadata": {},
   "outputs": [],
   "source": [
    "df = pd.read_csv('temperature.xvg', sep='\\s+', header=None, names=['time','Urea'])\n",
    "ax = df.plot('time')\n",
    "ax.set_xlabel(\"Time (ps)\")\n",
    "ax.set_ylabel(\"Temperature (K)\")"
   ]
  },
  {
   "cell_type": "code",
   "execution_count": null,
   "id": "8196dc11",
   "metadata": {},
   "outputs": [],
   "source": [
    "!printf \"2\\n\" | gmx dos -f nvt.trr -s nvt.tpr -g Cv.log -b 50"
   ]
  },
  {
   "cell_type": "code",
   "execution_count": null,
   "id": "223be147",
   "metadata": {},
   "outputs": [],
   "source": [
    "!tail -3 Cv.log"
   ]
  },
  {
   "cell_type": "code",
   "execution_count": null,
   "id": "294b397c",
   "metadata": {},
   "outputs": [],
   "source": [
    "!cat input/npt-urea.mdp"
   ]
  },
  {
   "cell_type": "code",
   "execution_count": null,
   "id": "96136ec5",
   "metadata": {},
   "outputs": [],
   "source": [
    "!gmx grompp -f input/npt-urea.mdp -c nvt.gro -r nvt.gro -t nvt.cpt -p URE300.top -o npt.tpr\n",
    "!gmx mdrun -ntmpi 1 -v -deffnm npt"
   ]
  },
  {
   "cell_type": "code",
   "execution_count": null,
   "id": "30d53200",
   "metadata": {},
   "outputs": [],
   "source": [
    "!echo \"Pressure\" | gmx energy -f npt.edr -o pressure.xvg -xvg none"
   ]
  },
  {
   "cell_type": "code",
   "execution_count": null,
   "id": "cfd436ca",
   "metadata": {},
   "outputs": [],
   "source": [
    "df = pd.read_csv('pressure.xvg', sep='\\s+', header=None, names=['time','Urea'])\n",
    "ax = df.plot('time')\n",
    "ax.set_xlabel(\"Time (ps)\")\n",
    "ax.set_ylabel(\"Pressure (bar)\")"
   ]
  },
  {
   "cell_type": "code",
   "execution_count": null,
   "id": "19b725f3",
   "metadata": {},
   "outputs": [],
   "source": [
    "!echo \"Density\" | gmx energy -f npt.edr -o density.xvg -xvg none"
   ]
  },
  {
   "cell_type": "code",
   "execution_count": null,
   "id": "af9cab81",
   "metadata": {},
   "outputs": [],
   "source": [
    "df = pd.read_csv('density.xvg', sep='\\s+', header=None, names=['time','Urea'])\n",
    "ax = df.plot('time')\n",
    "ax.set_xlabel(\"Time (ps)\")\n",
    "ax.set_ylabel(\"Density (kg/m^3)\")"
   ]
  },
  {
   "cell_type": "code",
   "execution_count": null,
   "id": "295f3ab5",
   "metadata": {},
   "outputs": [],
   "source": [
    "!printf \"2\\n\" | gmx dos -f npt.trr -s npt.tpr -g Cp.log -b 150"
   ]
  },
  {
   "cell_type": "code",
   "execution_count": null,
   "id": "a54b5102",
   "metadata": {},
   "outputs": [],
   "source": [
    "!tail -3 Cp.log"
   ]
  },
  {
   "cell_type": "code",
   "execution_count": null,
   "id": "cf081522",
   "metadata": {},
   "outputs": [],
   "source": [
    "!printf \"1\\n\" | gmx dipoles -f npt.trr -s npt.tpr -corr mol -temp 298 -b 150"
   ]
  }
 ],
 "metadata": {
  "kernelspec": {
   "display_name": "Python 3 (ipykernel)",
   "language": "python",
   "name": "python3"
  },
  "language_info": {
   "codemirror_mode": {
    "name": "ipython",
    "version": 3
   },
   "file_extension": ".py",
   "mimetype": "text/x-python",
   "name": "python",
   "nbconvert_exporter": "python",
   "pygments_lexer": "ipython3",
   "version": "3.11.3"
  }
 },
 "nbformat": 4,
 "nbformat_minor": 5
}
