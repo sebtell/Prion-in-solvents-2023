{
 "cells": [
  {
   "cell_type": "code",
   "execution_count": null,
   "id": "5824c363",
   "metadata": {},
   "outputs": [],
   "source": [
    "import nglview as ng\n",
    "import pandas as pd"
   ]
  },
  {
   "cell_type": "code",
   "execution_count": null,
   "id": "d036c174",
   "metadata": {},
   "outputs": [],
   "source": [
    "%cd data_ethanol"
   ]
  },
  {
   "cell_type": "code",
   "execution_count": null,
   "id": "7172e890",
   "metadata": {},
   "outputs": [],
   "source": [
    "!gmx editconf -f EtO_files/EtO_GMX.gro -o box1.gro -box 4 3 4"
   ]
  },
  {
   "cell_type": "code",
   "execution_count": null,
   "id": "ac2ad082",
   "metadata": {},
   "outputs": [],
   "source": [
    "!gmx insert-molecules -f box1.gro -ci EtO_files/EtO_GMX.gro -o box2.gro -nmol 299 -try 100"
   ]
  },
  {
   "cell_type": "code",
   "execution_count": null,
   "id": "1efc1deb",
   "metadata": {},
   "outputs": [],
   "source": [
    "view = ng.show_structure_file(\"box2.gro\")\n",
    "view"
   ]
  },
  {
   "cell_type": "code",
   "execution_count": null,
   "id": "988d9084",
   "metadata": {},
   "outputs": [],
   "source": [
    "!cat input/emin-eto.mdp"
   ]
  },
  {
   "cell_type": "code",
   "execution_count": null,
   "id": "4b781de9",
   "metadata": {},
   "outputs": [],
   "source": [
    "!gmx grompp -f input/emin-eto.mdp -c box2.gro -p EtO300.top -o em.tpr\n",
    "!gmx mdrun -deffnm em"
   ]
  },
  {
   "cell_type": "code",
   "execution_count": null,
   "id": "1f7e0b82",
   "metadata": {},
   "outputs": [],
   "source": [
    "!cat input/nvt-eto.mdp"
   ]
  },
  {
   "cell_type": "code",
   "execution_count": null,
   "id": "7319c466",
   "metadata": {},
   "outputs": [],
   "source": [
    "!gmx grompp -f input/nvt-eto.mdp -c em.gro -r em.gro -p EtO300.top -o nvt.tpr \n",
    "!gmx mdrun -ntmpi 1 -v -deffnm nvt"
   ]
  },
  {
   "cell_type": "code",
   "execution_count": null,
   "id": "5e706334",
   "metadata": {},
   "outputs": [],
   "source": [
    "!echo \"Temperature\" | gmx energy -f nvt.edr -o temperature.xvg -xvg none"
   ]
  },
  {
   "cell_type": "code",
   "execution_count": null,
   "id": "47dc6a84",
   "metadata": {},
   "outputs": [],
   "source": [
    "df = pd.read_csv('temperature.xvg', sep='\\s+', header=None, names=['time','Ethanol'])\n",
    "ax = df.plot('time')\n",
    "ax.set_xlabel(\"Time (ps)\")\n",
    "ax.set_ylabel(\"Temperature (K)\")"
   ]
  },
  {
   "cell_type": "code",
   "execution_count": null,
   "id": "934eeb74",
   "metadata": {},
   "outputs": [],
   "source": [
    "!printf \"2\\n\" | gmx dos -f nvt.trr -s nvt.tpr -g Cv.log -b 50"
   ]
  },
  {
   "cell_type": "code",
   "execution_count": null,
   "id": "32157fa4",
   "metadata": {},
   "outputs": [],
   "source": [
    "!tail -3 Cv.log"
   ]
  },
  {
   "cell_type": "code",
   "execution_count": null,
   "id": "42cf7dc5",
   "metadata": {},
   "outputs": [],
   "source": [
    "!cat input/npt-eto.mdp"
   ]
  },
  {
   "cell_type": "code",
   "execution_count": null,
   "id": "19f581db",
   "metadata": {},
   "outputs": [],
   "source": [
    "!gmx grompp -f input/npt-eto.mdp -c nvt.gro -r nvt.gro -t nvt.cpt -p EtO300.top -o npt.tpr"
   ]
  },
  {
   "cell_type": "code",
   "execution_count": null,
   "id": "04b86701",
   "metadata": {},
   "outputs": [],
   "source": [
    "!gmx mdrun -ntmpi 1 -v -deffnm npt"
   ]
  },
  {
   "cell_type": "code",
   "execution_count": null,
   "id": "64ba21eb",
   "metadata": {},
   "outputs": [],
   "source": [
    "!echo \"Pressure\" | gmx energy -f npt.edr -o pressure.xvg -xvg none"
   ]
  },
  {
   "cell_type": "code",
   "execution_count": null,
   "id": "c20ec8af",
   "metadata": {},
   "outputs": [],
   "source": [
    "df = pd.read_csv('pressure.xvg', sep='\\s+', header=None, names=['time','Ethanol'])\n",
    "ax = df.plot('time')\n",
    "ax.set_xlabel(\"Time (ps)\")\n",
    "ax.set_ylabel(\"Pressure (bar)\")"
   ]
  },
  {
   "cell_type": "code",
   "execution_count": null,
   "id": "25a787b8",
   "metadata": {},
   "outputs": [],
   "source": [
    "!echo \"Density\" | gmx energy -f npt.edr -o density.xvg -xvg none"
   ]
  },
  {
   "cell_type": "code",
   "execution_count": null,
   "id": "6cb51635",
   "metadata": {},
   "outputs": [],
   "source": [
    "df = pd.read_csv('density.xvg', sep='\\s+', header=None, names=['time','Ethanol'])\n",
    "ax = df.plot('time')\n",
    "ax.set_xlabel(\"Time (ps)\")\n",
    "ax.set_ylabel(\"Density (kg/m^3)\")"
   ]
  },
  {
   "cell_type": "code",
   "execution_count": null,
   "id": "e7988e06",
   "metadata": {},
   "outputs": [],
   "source": [
    "!printf \"2\\n\" | gmx dos -f npt.trr -s npt.tpr -g Cp.log -b 50"
   ]
  },
  {
   "cell_type": "code",
   "execution_count": null,
   "id": "1cb094b8",
   "metadata": {},
   "outputs": [],
   "source": [
    "!tail -3 Cp.log"
   ]
  },
  {
   "cell_type": "code",
   "execution_count": null,
   "id": "9d63ae1d",
   "metadata": {
    "scrolled": true
   },
   "outputs": [],
   "source": [
    "!printf \"2\\n\" | gmx dipoles -f npt.trr -s npt.tpr -corr mol -temp 298 -b 50"
   ]
  }
 ],
 "metadata": {
  "kernelspec": {
   "display_name": "Python 3 (ipykernel)",
   "language": "python",
   "name": "python3"
  },
  "language_info": {
   "codemirror_mode": {
    "name": "ipython",
    "version": 3
   },
   "file_extension": ".py",
   "mimetype": "text/x-python",
   "name": "python",
   "nbconvert_exporter": "python",
   "pygments_lexer": "ipython3",
   "version": "3.11.3"
  }
 },
 "nbformat": 4,
 "nbformat_minor": 5
}
