{
 "cells": [
  {
   "cell_type": "code",
   "execution_count": null,
   "id": "00d70cc6",
   "metadata": {},
   "outputs": [],
   "source": [
    "import nglview as ng"
   ]
  },
  {
   "cell_type": "code",
   "execution_count": null,
   "id": "7cced16e",
   "metadata": {},
   "outputs": [],
   "source": [
    "cd pdb_to_gromacs"
   ]
  },
  {
   "cell_type": "code",
   "execution_count": null,
   "id": "e955302b",
   "metadata": {},
   "outputs": [],
   "source": []
  },
  {
   "cell_type": "code",
   "execution_count": null,
   "id": "86eea7cb",
   "metadata": {},
   "outputs": [],
   "source": [
    "view = ng.show_structure_file(\"pdb_input/ethanol.pdb\")\n",
    "view"
   ]
  },
  {
   "cell_type": "code",
   "execution_count": null,
   "id": "0b0110fc",
   "metadata": {},
   "outputs": [],
   "source": [
    "!acpype -i pdb_input/ethanol.pdb -n 0"
   ]
  },
  {
   "cell_type": "code",
   "execution_count": null,
   "id": "77057e5a",
   "metadata": {},
   "outputs": [],
   "source": [
    "!acpype -p ethanol.acpype/ethanol_AC.prmtop -x ethanol.acpype/ethanol_AC.inpcrd\n",
    "\n",
    "#This command creates files compatible with the amber force field. \n",
    "#The output files EtO_GMX.gro and EtO_GMX.top will be generated inside folder EtO_GMX.amb2gmx"
   ]
  },
  {
   "cell_type": "code",
   "execution_count": null,
   "id": "55b502cf",
   "metadata": {},
   "outputs": [],
   "source": []
  },
  {
   "cell_type": "code",
   "execution_count": null,
   "id": "d46660af",
   "metadata": {},
   "outputs": [],
   "source": [
    "view = ng.show_structure_file(\"pdb_input/benzene.pdb\")\n",
    "view"
   ]
  },
  {
   "cell_type": "code",
   "execution_count": null,
   "id": "af2dbd15",
   "metadata": {},
   "outputs": [],
   "source": [
    "!acpype -i pdb_input/single_benzene.pdb -n 0\n"
   ]
  },
  {
   "cell_type": "code",
   "execution_count": null,
   "id": "ae1c329a",
   "metadata": {},
   "outputs": [],
   "source": [
    "!acpype -p benzene.acpype/benzene_AC.prmtop -x benzene.acpype/benzene_AC.inpcrd\n"
   ]
  },
  {
   "cell_type": "code",
   "execution_count": null,
   "id": "e3780aba",
   "metadata": {},
   "outputs": [],
   "source": []
  },
  {
   "cell_type": "code",
   "execution_count": null,
   "id": "c0b5c398",
   "metadata": {},
   "outputs": [],
   "source": [
    "view = ng.show_structure_file(\"pdb_input/urea.pdb\")\n",
    "view"
   ]
  },
  {
   "cell_type": "code",
   "execution_count": null,
   "id": "a30dbd79",
   "metadata": {},
   "outputs": [],
   "source": [
    "!acpype -i pdb_input/single_urea.pdb -n 0"
   ]
  },
  {
   "cell_type": "code",
   "execution_count": null,
   "id": "eb80578f",
   "metadata": {},
   "outputs": [],
   "source": [
    "!acpype -p urea.acpype/urea_AC.prmtop -x urea.acpype/urea_AC.inpcrd\n"
   ]
  }
 ],
 "metadata": {
  "kernelspec": {
   "display_name": "Python 3 (ipykernel)",
   "language": "python",
   "name": "python3"
  },
  "language_info": {
   "codemirror_mode": {
    "name": "ipython",
    "version": 3
   },
   "file_extension": ".py",
   "mimetype": "text/x-python",
   "name": "python",
   "nbconvert_exporter": "python",
   "pygments_lexer": "ipython3",
   "version": "3.10.10"
  }
 },
 "nbformat": 4,
 "nbformat_minor": 5
}
