{
 "cells": [
  {
   "cell_type": "code",
   "execution_count": null,
   "id": "5824c363",
   "metadata": {},
   "outputs": [],
   "source": [
    "import nglview as ng\n",
    "import pandas as pd"
   ]
  },
  {
   "cell_type": "code",
   "execution_count": null,
   "id": "d036c174",
   "metadata": {},
   "outputs": [],
   "source": [
    "%cd data_benzene"
   ]
  },
  {
   "cell_type": "code",
   "execution_count": null,
   "id": "7172e890",
   "metadata": {},
   "outputs": [],
   "source": [
    "!gmx editconf -f BEN_files/BEN_GMX.gro -o box1.gro -box 4 3 4"
   ]
  },
  {
   "cell_type": "code",
   "execution_count": null,
   "id": "ac2ad082",
   "metadata": {},
   "outputs": [],
   "source": [
    "!gmx insert-molecules -f box1.gro -ci BEN_files/BEN_GMX.gro -o box2.gro -nmol 299 -try 100"
   ]
  },
  {
   "cell_type": "code",
   "execution_count": null,
   "id": "1efc1deb",
   "metadata": {},
   "outputs": [],
   "source": [
    "view = ng.show_structure_file(\"box2.gro\")\n",
    "view"
   ]
  },
  {
   "cell_type": "code",
   "execution_count": null,
   "id": "988d9084",
   "metadata": {},
   "outputs": [],
   "source": [
    "!cat input/emin-ben.mdp"
   ]
  },
  {
   "cell_type": "code",
   "execution_count": null,
   "id": "4b781de9",
   "metadata": {},
   "outputs": [],
   "source": [
    "!gmx grompp -f input/emin-amber.mdp -c box2.gro -p BEN300.top -o em.tpr\n",
    "!gmx mdrun -deffnm em"
   ]
  },
  {
   "cell_type": "code",
   "execution_count": null,
   "id": "1f7e0b82",
   "metadata": {},
   "outputs": [],
   "source": [
    "!cat input/nvt-ben.mdp"
   ]
  },
  {
   "cell_type": "code",
   "execution_count": null,
   "id": "7319c466",
   "metadata": {},
   "outputs": [],
   "source": [
    "!gmx grompp -f input/nvt-ben.mdp -c em.gro -r em.gro -p BEN300.top -o nvt.tpr \n",
    "!gmx mdrun -ntmpi 1 -v -deffnm nvt"
   ]
  },
  {
   "cell_type": "code",
   "execution_count": null,
   "id": "5e706334",
   "metadata": {},
   "outputs": [],
   "source": [
    "!echo \"Temperature\" | gmx energy -f nvt.edr -o temperature.xvg -xvg none"
   ]
  },
  {
   "cell_type": "code",
   "execution_count": null,
   "id": "47dc6a84",
   "metadata": {},
   "outputs": [],
   "source": [
    "df = pd.read_csv('temperature.xvg', sep='\\s+', header=None, names=['time','Benzene'])\n",
    "ax = df.plot('time')\n",
    "ax.set_xlabel(\"Time (ps)\")\n",
    "ax.set_ylabel(\"Temperature (K)\")"
   ]
  },
  {
   "cell_type": "code",
   "execution_count": null,
   "id": "1c13f937",
   "metadata": {},
   "outputs": [],
   "source": [
    "!printf \"2\\n\" | gmx dos -f nvt.trr -s nvt.tpr -g Cv.log -b 50"
   ]
  },
  {
   "cell_type": "code",
   "execution_count": null,
   "id": "9772a728",
   "metadata": {},
   "outputs": [],
   "source": [
    "!tail -3 Cv.log"
   ]
  },
  {
   "cell_type": "code",
   "execution_count": null,
   "id": "42cf7dc5",
   "metadata": {},
   "outputs": [],
   "source": [
    "!cat input/npt-ben.mdp"
   ]
  },
  {
   "cell_type": "code",
   "execution_count": null,
   "id": "19f581db",
   "metadata": {},
   "outputs": [],
   "source": [
    "!gmx grompp -f input/npt-ben.mdp -c nvt.gro -r nvt.gro -t nvt.cpt -p BEN300.top -o npt.tpr\n",
    "!gmx mdrun -ntmpi 1 -v -deffnm npt"
   ]
  },
  {
   "cell_type": "code",
   "execution_count": null,
   "id": "64ba21eb",
   "metadata": {},
   "outputs": [],
   "source": [
    "!echo \"Pressure\" | gmx energy -f npt.edr -o pressure.xvg -xvg none"
   ]
  },
  {
   "cell_type": "code",
   "execution_count": null,
   "id": "c20ec8af",
   "metadata": {},
   "outputs": [],
   "source": [
    "df = pd.read_csv('pressure.xvg', sep='\\s+', header=None, names=['time','Benzene'])\n",
    "ax = df.plot('time')\n",
    "ax.set_xlabel(\"Time (ps)\")\n",
    "ax.set_ylabel(\"Pressure (bar)\")"
   ]
  },
  {
   "cell_type": "code",
   "execution_count": null,
   "id": "25a787b8",
   "metadata": {},
   "outputs": [],
   "source": [
    "!echo \"Density\" | gmx energy -f npt.edr -o density.xvg -xvg none"
   ]
  },
  {
   "cell_type": "code",
   "execution_count": null,
   "id": "6cb51635",
   "metadata": {},
   "outputs": [],
   "source": [
    "df = pd.read_csv('density.xvg', sep='\\s+', header=None, names=['time','Benzene'])\n",
    "ax = df.plot('time')\n",
    "ax.set_xlabel(\"Time (ps)\")\n",
    "ax.set_ylabel(\"Density (kg/m^3)\")"
   ]
  },
  {
   "cell_type": "code",
   "execution_count": null,
   "id": "9b5e871f",
   "metadata": {},
   "outputs": [],
   "source": [
    "!printf \"2\\n\" | gmx dos -f npt.trr -s npt.tpr -g Cp.log -b 100"
   ]
  },
  {
   "cell_type": "code",
   "execution_count": null,
   "id": "c1cd17df",
   "metadata": {},
   "outputs": [],
   "source": [
    "!tail -3 Cp.log"
   ]
  },
  {
   "cell_type": "code",
   "execution_count": null,
   "id": "9fdb8be5",
   "metadata": {},
   "outputs": [],
   "source": [
    "!printf \"1\\n\" | gmx dipoles -f npt.trr -s npt.tpr -corr mol -temp 298"
   ]
  }
 ],
 "metadata": {
  "kernelspec": {
   "display_name": "Python 3 (ipykernel)",
   "language": "python",
   "name": "python3"
  },
  "language_info": {
   "codemirror_mode": {
    "name": "ipython",
    "version": 3
   },
   "file_extension": ".py",
   "mimetype": "text/x-python",
   "name": "python",
   "nbconvert_exporter": "python",
   "pygments_lexer": "ipython3",
   "version": "3.11.3"
  }
 },
 "nbformat": 4,
 "nbformat_minor": 5
}
