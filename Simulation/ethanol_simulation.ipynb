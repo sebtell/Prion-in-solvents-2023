{
 "cells": [
  {
   "cell_type": "code",
   "execution_count": null,
   "id": "c9d02fcc",
   "metadata": {},
   "outputs": [],
   "source": [
    "import nglview as ng\n",
    "import pandas as pd"
   ]
  },
  {
   "cell_type": "code",
   "execution_count": null,
   "id": "3c0dc0c9",
   "metadata": {},
   "outputs": [],
   "source": [
    "%cd Ethanol"
   ]
  },
  {
   "cell_type": "code",
   "execution_count": null,
   "id": "c0cdfd5e",
   "metadata": {},
   "outputs": [],
   "source": [
    "view = ng.show_structure_file(\"input/prot1.pdb\")\n",
    "view"
   ]
  },
  {
   "cell_type": "code",
   "execution_count": null,
   "id": "741744cb",
   "metadata": {},
   "outputs": [],
   "source": [
    "!grep -v HETATM input/prot1.pdb > prot1_protein_tmp.pdb\n",
    "!grep -v CONECT prot1_protein_tmp.pdb > prot1_protein.pdb\n",
    "\n",
    "!grep MISSING input/prot1.pdb"
   ]
  },
  {
   "cell_type": "code",
   "execution_count": null,
   "id": "67097d09",
   "metadata": {},
   "outputs": [],
   "source": [
    "!gmx pdb2gmx -f prot1_protein.pdb -o prot1_processed.gro -water tip4p -ff \"amber03\""
   ]
  },
  {
   "cell_type": "code",
   "execution_count": null,
   "id": "8fcc66bd",
   "metadata": {},
   "outputs": [],
   "source": [
    "!ls"
   ]
  },
  {
   "cell_type": "code",
   "execution_count": null,
   "id": "b8900c45",
   "metadata": {},
   "outputs": [],
   "source": [
    "stop."
   ]
  },
  {
   "cell_type": "markdown",
   "id": "d4c2b418",
   "metadata": {},
   "source": [
    "<font size=\"3\">Before proceeding with the simulation run, make sure to include the [atomtypes] for ethanol in the newly generated topology. Then instead of including your water topology, redirect it to the ethanol itp file called ETOH.itp. Finally, if it should be relevant, include the position restraints for ethanol.</font> \n",
    "\n",
    "<font size=\"5\">An example topology file exists in the input folder, called example.top</font> "
   ]
  },
  {
   "cell_type": "code",
   "execution_count": null,
   "id": "2e51d850",
   "metadata": {},
   "outputs": [],
   "source": [
    "!gmx editconf -f prot1_processed.gro -o prot1_newbox.gro -c -d 1.0 -bt cubic"
   ]
  },
  {
   "cell_type": "code",
   "execution_count": null,
   "id": "2efae357",
   "metadata": {},
   "outputs": [],
   "source": [
    "!gmx solvate -cp prot1_newbox.gro -cs ETOH.gro -o prot1_solv.gro -p topol.top"
   ]
  },
  {
   "cell_type": "code",
   "execution_count": null,
   "id": "a3ec375c",
   "metadata": {},
   "outputs": [],
   "source": [
    "#It writes 'in water' automatically but it is in ethanol. \n",
    "!tail topol.top"
   ]
  },
  {
   "cell_type": "code",
   "execution_count": null,
   "id": "3cb79c72",
   "metadata": {},
   "outputs": [],
   "source": [
    "!touch ions.mdp"
   ]
  },
  {
   "cell_type": "code",
   "execution_count": null,
   "id": "b4921749",
   "metadata": {},
   "outputs": [],
   "source": [
    "!gmx grompp -f ions.mdp -c prot1_solv.gro -p topol.top -o ions.tpr"
   ]
  },
  {
   "cell_type": "code",
   "execution_count": null,
   "id": "fc16e71c",
   "metadata": {},
   "outputs": [],
   "source": [
    "!printf \"SOL\\n\" | gmx genion -s ions.tpr -o prot1_solv_ions.gro -conc 0.15 -p \\\n",
    "topol.top -pname NA -nname CL -neutral"
   ]
  },
  {
   "cell_type": "code",
   "execution_count": null,
   "id": "1df7bd29",
   "metadata": {},
   "outputs": [],
   "source": [
    "!tail -6 topol.top"
   ]
  },
  {
   "cell_type": "code",
   "execution_count": null,
   "id": "fd0501af",
   "metadata": {},
   "outputs": [],
   "source": [
    "!cat input/run-em-amber.mdp"
   ]
  },
  {
   "cell_type": "code",
   "execution_count": null,
   "id": "095bb2db",
   "metadata": {},
   "outputs": [],
   "source": [
    "!gmx grompp -f input/run-em-amber.mdp -c prot1_solv_ions.gro -p topol.top -o em.tpr"
   ]
  },
  {
   "cell_type": "code",
   "execution_count": null,
   "id": "1d0c5fde",
   "metadata": {},
   "outputs": [],
   "source": [
    "!gmx mdrun -v -deffnm em "
   ]
  },
  {
   "cell_type": "code",
   "execution_count": null,
   "id": "b8f1c297",
   "metadata": {},
   "outputs": [],
   "source": [
    "!printf \"Potential\\n0\\n\" | gmx energy -f em.edr -o potential.xvg -xvg none"
   ]
  },
  {
   "cell_type": "code",
   "execution_count": null,
   "id": "56101c4d",
   "metadata": {},
   "outputs": [],
   "source": [
    "df = pd.read_csv('potential.xvg', sep='\\s+', header=None, names=['time','energy'])\n",
    "df.plot('time')"
   ]
  },
  {
   "cell_type": "code",
   "execution_count": null,
   "id": "1ec3e2a1",
   "metadata": {},
   "outputs": [],
   "source": [
    "!cat input/run-md-nvt-amber.mdp"
   ]
  },
  {
   "cell_type": "code",
   "execution_count": null,
   "id": "b8ad5ce0",
   "metadata": {},
   "outputs": [],
   "source": [
    "!gmx grompp -f input/run-md-nvt-amber.mdp -c em.gro -r em.gro -p topol.top -o nvt.tpr \n",
    "!gmx mdrun -ntmpi 1 -v -deffnm nvt"
   ]
  },
  {
   "cell_type": "code",
   "execution_count": null,
   "id": "7f9e60e8",
   "metadata": {},
   "outputs": [],
   "source": [
    "!echo \"Temperature\" | gmx energy -f nvt.edr -o temperature.xvg -xvg none"
   ]
  },
  {
   "cell_type": "code",
   "execution_count": null,
   "id": "5ef4cb90",
   "metadata": {},
   "outputs": [],
   "source": [
    "df = pd.read_csv('temperature.xvg', sep='\\s+', header=None, names=['time','temperature'])\n",
    "df.plot('time')"
   ]
  },
  {
   "cell_type": "code",
   "execution_count": null,
   "id": "5e3fc561",
   "metadata": {},
   "outputs": [],
   "source": [
    "!cat input/run-md-npt-amber.mdp"
   ]
  },
  {
   "cell_type": "code",
   "execution_count": null,
   "id": "53dff9c9",
   "metadata": {},
   "outputs": [],
   "source": [
    "!gmx grompp -f input/run-md-npt-amber.mdp -c nvt.gro -r nvt.gro -t nvt.cpt -p topol.top -o npt.tpr"
   ]
  },
  {
   "cell_type": "code",
   "execution_count": null,
   "id": "d86d79fb",
   "metadata": {},
   "outputs": [],
   "source": [
    "!gmx mdrun -ntmpi 1 -v -deffnm npt"
   ]
  },
  {
   "cell_type": "code",
   "execution_count": null,
   "id": "37eca655",
   "metadata": {},
   "outputs": [],
   "source": [
    "!echo \"Pressure\" | gmx energy -f npt.edr -o pressure.xvg -xvg none"
   ]
  },
  {
   "cell_type": "code",
   "execution_count": null,
   "id": "39ea5344",
   "metadata": {},
   "outputs": [],
   "source": [
    "df = pd.read_csv('pressure.xvg', sep='\\s+', header=None, names=['time','pressure'])\n",
    "df.plot('time')"
   ]
  },
  {
   "cell_type": "code",
   "execution_count": null,
   "id": "55642f1c",
   "metadata": {},
   "outputs": [],
   "source": [
    "!echo \"Density\" | gmx energy -f npt.edr -o density.xvg -xvg none"
   ]
  },
  {
   "cell_type": "code",
   "execution_count": null,
   "id": "facea6c3",
   "metadata": {},
   "outputs": [],
   "source": [
    "df = pd.read_csv('density.xvg', sep='\\s+', header=None, names=['time','density'])\n",
    "df.plot('time')"
   ]
  },
  {
   "cell_type": "code",
   "execution_count": null,
   "id": "da506038",
   "metadata": {},
   "outputs": [],
   "source": [
    "!cat input/run-md-amber.mdp"
   ]
  },
  {
   "cell_type": "code",
   "execution_count": null,
   "id": "a1d3cf31",
   "metadata": {},
   "outputs": [],
   "source": [
    "!gmx grompp -f input/run-md-amber.mdp -c npt.gro -t npt.cpt -p topol.top -o md.tpr"
   ]
  },
  {
   "cell_type": "code",
   "execution_count": null,
   "id": "3b1591d2",
   "metadata": {},
   "outputs": [],
   "source": [
    "!gmx mdrun -ntmpi 1 -v -deffnm md"
   ]
  },
  {
   "cell_type": "code",
   "execution_count": null,
   "id": "f30ef621",
   "metadata": {},
   "outputs": [],
   "source": [
    "!printf \"1\\n1\\n\" | gmx trjconv -s md.tpr -f md.xtc -o md_noPBC.xtc -center -pbc mol"
   ]
  },
  {
   "cell_type": "code",
   "execution_count": null,
   "id": "e9ca44bc",
   "metadata": {},
   "outputs": [],
   "source": [
    "import mdtraj as md\n",
    "traj = md.load(\"md_noPBC.xtc\", top=\"prot1_newbox.gro\")\n",
    "view = ng.show_mdtraj(traj)\n",
    "view"
   ]
  },
  {
   "cell_type": "code",
   "execution_count": null,
   "id": "5b5ee1c2",
   "metadata": {},
   "outputs": [],
   "source": [
    "!printf \"1\\n\" | gmx mindist -s md.tpr -f md_noPBC.xtc -pi -od mindist.xvg "
   ]
  }
 ],
 "metadata": {
  "kernelspec": {
   "display_name": "Python 3 (ipykernel)",
   "language": "python",
   "name": "python3"
  },
  "language_info": {
   "codemirror_mode": {
    "name": "ipython",
    "version": 3
   },
   "file_extension": ".py",
   "mimetype": "text/x-python",
   "name": "python",
   "nbconvert_exporter": "python",
   "pygments_lexer": "ipython3",
   "version": "3.11.3"
  }
 },
 "nbformat": 4,
 "nbformat_minor": 5
}
