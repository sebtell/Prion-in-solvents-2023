{
 "cells": [
  {
   "cell_type": "code",
   "execution_count": null,
   "id": "764210c7",
   "metadata": {},
   "outputs": [],
   "source": [
    "import nglview as ng\n",
    "import pandas as pd"
   ]
  },
  {
   "cell_type": "code",
   "execution_count": null,
   "id": "a1126bbd",
   "metadata": {},
   "outputs": [],
   "source": [
    "%cd Urea"
   ]
  },
  {
   "cell_type": "code",
   "execution_count": null,
   "id": "77c72798",
   "metadata": {},
   "outputs": [],
   "source": [
    "view = ng.show_structure_file(\"input/prot1.pdb\")\n",
    "view"
   ]
  },
  {
   "cell_type": "code",
   "execution_count": null,
   "id": "42331700",
   "metadata": {},
   "outputs": [],
   "source": [
    "!grep -v HETATM input/prot1.pdb > prot1_protein_tmp.pdb\n",
    "!grep -v CONECT prot1_protein_tmp.pdb > prot1_protein.pdb\n",
    "\n",
    "!grep MISSING input/prot1.pdb"
   ]
  },
  {
   "cell_type": "code",
   "execution_count": null,
   "id": "2d91d532",
   "metadata": {},
   "outputs": [],
   "source": [
    "!gmx pdb2gmx -f prot1_protein.pdb -o prot1_processed.gro -water tip4p -ff \"amber03\""
   ]
  },
  {
   "cell_type": "code",
   "execution_count": null,
   "id": "efcde21b",
   "metadata": {},
   "outputs": [],
   "source": [
    "!ls"
   ]
  },
  {
   "cell_type": "code",
   "execution_count": null,
   "id": "933fee41",
   "metadata": {},
   "outputs": [],
   "source": [
    "stop."
   ]
  },
  {
   "cell_type": "markdown",
   "id": "794f8310",
   "metadata": {},
   "source": [
    "<font size=\"3\">Before proceeding with the simulation run, make sure to include the [atomtypes] for urea in the newly generated topology. Then in addition to including your water topology, also include the urea itp file called UREA1.itp. Finally, if it should be relevant, include the position restraints for urea.</font> \n",
    "\n",
    "<font size=\"5\">An example topology file exists in the input folder, called example.top</font> "
   ]
  },
  {
   "cell_type": "code",
   "execution_count": null,
   "id": "f0791805",
   "metadata": {},
   "outputs": [],
   "source": [
    "!gmx editconf -f prot1_processed.gro -o prot1_newbox.gro -c -d 1.0 -bt dodecahedron"
   ]
  },
  {
   "cell_type": "code",
   "execution_count": null,
   "id": "358cb0a3",
   "metadata": {},
   "outputs": [],
   "source": [
    "!gmx solvate -cp prot1_newbox.gro -cs UREA.gro -o prot1_solv.gro -p topol.top -maxsol 11000"
   ]
  },
  {
   "cell_type": "code",
   "execution_count": null,
   "id": "3317694d",
   "metadata": {},
   "outputs": [],
   "source": [
    "stop."
   ]
  },
  {
   "cell_type": "markdown",
   "id": "51332d8a",
   "metadata": {},
   "source": [
    "<font size=\"3\">Change the name of SOL to URE in the topology file.</font> "
   ]
  },
  {
   "cell_type": "code",
   "execution_count": null,
   "id": "03888110",
   "metadata": {},
   "outputs": [],
   "source": [
    "!touch ions.mdp"
   ]
  },
  {
   "cell_type": "code",
   "execution_count": null,
   "id": "5c2b9875",
   "metadata": {},
   "outputs": [],
   "source": [
    "!gmx grompp -f ions.mdp -c prot1_solv.gro -p topol.top -o ions.tpr"
   ]
  },
  {
   "cell_type": "code",
   "execution_count": null,
   "id": "bd3b2cf4",
   "metadata": {},
   "outputs": [],
   "source": [
    "!printf \"URE\\n\" | gmx genion -s ions.tpr -o prot1_solv_ions.gro -conc 0.15 -p \\\n",
    "topol.top -pname NA -nname CL -neutral"
   ]
  },
  {
   "cell_type": "code",
   "execution_count": null,
   "id": "83a0b257",
   "metadata": {},
   "outputs": [],
   "source": [
    "!gmx solvate -cp prot1_solv_ions.gro -cs tip4p.gro -o prot1_solv_water.gro -p topol.top"
   ]
  },
  {
   "cell_type": "code",
   "execution_count": null,
   "id": "de3edac1",
   "metadata": {},
   "outputs": [],
   "source": [
    "!tail -6 topol.top"
   ]
  },
  {
   "cell_type": "code",
   "execution_count": null,
   "id": "7bcaa81b",
   "metadata": {},
   "outputs": [],
   "source": [
    "!cat input/run-em-amber.mdp"
   ]
  },
  {
   "cell_type": "code",
   "execution_count": null,
   "id": "b7880a1c",
   "metadata": {},
   "outputs": [],
   "source": [
    "!gmx grompp -f input/run-em-amber.mdp -c prot1_solv_water.gro -p topol.top -o em.tpr"
   ]
  },
  {
   "cell_type": "code",
   "execution_count": null,
   "id": "61a609af",
   "metadata": {},
   "outputs": [],
   "source": [
    "!gmx mdrun -v -deffnm em "
   ]
  },
  {
   "cell_type": "code",
   "execution_count": null,
   "id": "53c3839b",
   "metadata": {},
   "outputs": [],
   "source": [
    "!printf \"Potential\\n0\\n\" | gmx energy -f em.edr -o potential.xvg -xvg none"
   ]
  },
  {
   "cell_type": "code",
   "execution_count": null,
   "id": "34daa008",
   "metadata": {},
   "outputs": [],
   "source": [
    "df = pd.read_csv('potential.xvg', sep='\\s+', header=None, names=['time','energy'])\n",
    "df.plot('time')"
   ]
  },
  {
   "cell_type": "code",
   "execution_count": null,
   "id": "2d25635c",
   "metadata": {},
   "outputs": [],
   "source": [
    "!cat input/run-md-nvt-amber.mdp"
   ]
  },
  {
   "cell_type": "code",
   "execution_count": null,
   "id": "a4657814",
   "metadata": {},
   "outputs": [],
   "source": [
    "!gmx grompp -f input/run-md-nvt-amber.mdp -c em.gro -r em.gro -p topol.top -o nvt.tpr \n",
    "!gmx mdrun -ntmpi 1 -v -deffnm nvt"
   ]
  },
  {
   "cell_type": "code",
   "execution_count": null,
   "id": "90b8e84b",
   "metadata": {},
   "outputs": [],
   "source": [
    "!echo \"Temperature\" | gmx energy -f nvt.edr -o temperature.xvg -xvg none"
   ]
  },
  {
   "cell_type": "code",
   "execution_count": null,
   "id": "70ec3972",
   "metadata": {},
   "outputs": [],
   "source": [
    "df = pd.read_csv('temperature.xvg', sep='\\s+', header=None, names=['time','temperature'])\n",
    "df.plot('time')"
   ]
  },
  {
   "cell_type": "code",
   "execution_count": null,
   "id": "fa18a0ab",
   "metadata": {},
   "outputs": [],
   "source": [
    "!cat input/run-md-npt-amber.mdp"
   ]
  },
  {
   "cell_type": "code",
   "execution_count": null,
   "id": "f79e5587",
   "metadata": {},
   "outputs": [],
   "source": [
    "!gmx grompp -f input/run-md-npt-amber.mdp -c nvt.gro -r nvt.gro -t nvt.cpt -p topol.top -o npt.tpr\n",
    "!gmx mdrun -ntmpi 1 -v -deffnm npt"
   ]
  },
  {
   "cell_type": "code",
   "execution_count": null,
   "id": "05d0372f",
   "metadata": {},
   "outputs": [],
   "source": [
    "!echo \"Pressure\" | gmx energy -f npt.edr -o pressure.xvg -xvg none"
   ]
  },
  {
   "cell_type": "code",
   "execution_count": null,
   "id": "8c8573e9",
   "metadata": {},
   "outputs": [],
   "source": [
    "df = pd.read_csv('pressure.xvg', sep='\\s+', header=None, names=['time','pressure'])\n",
    "df.plot('time')"
   ]
  },
  {
   "cell_type": "code",
   "execution_count": null,
   "id": "27efcd76",
   "metadata": {},
   "outputs": [],
   "source": [
    "!echo \"Density\" | gmx energy -f npt.edr -o density.xvg -xvg none"
   ]
  },
  {
   "cell_type": "code",
   "execution_count": null,
   "id": "a080ba6f",
   "metadata": {},
   "outputs": [],
   "source": [
    "df = pd.read_csv('density.xvg', sep='\\s+', header=None, names=['time','density'])\n",
    "df.plot('time')"
   ]
  },
  {
   "cell_type": "code",
   "execution_count": null,
   "id": "4b78c903",
   "metadata": {},
   "outputs": [],
   "source": [
    "!cat input/run-md-amber.mdp"
   ]
  },
  {
   "cell_type": "code",
   "execution_count": null,
   "id": "8fb37770",
   "metadata": {},
   "outputs": [],
   "source": [
    "!gmx grompp -f input/run-md-amber.mdp -c npt.gro -t npt.cpt -p topol.top -o md.tpr"
   ]
  },
  {
   "cell_type": "code",
   "execution_count": null,
   "id": "d6a6e299",
   "metadata": {},
   "outputs": [],
   "source": [
    "!gmx mdrun -ntmpi 1 -v -deffnm md"
   ]
  },
  {
   "cell_type": "code",
   "execution_count": null,
   "id": "0d567413",
   "metadata": {},
   "outputs": [],
   "source": [
    "!printf \"1\\n1\\n\" | gmx trjconv -s md.tpr -f md.xtc -o md_noPBC.xtc -center -pbc mol"
   ]
  },
  {
   "cell_type": "code",
   "execution_count": null,
   "id": "1fe9a683",
   "metadata": {},
   "outputs": [],
   "source": [
    "import mdtraj as md\n",
    "traj = md.load(\"md_noPBC.xtc\", top=\"prot1_newbox.gro\")\n",
    "view = ng.show_mdtraj(traj)\n",
    "view"
   ]
  },
  {
   "cell_type": "code",
   "execution_count": null,
   "id": "ece4b5a6",
   "metadata": {},
   "outputs": [],
   "source": [
    "!printf \"1\\n\" | gmx mindist -s md.tpr -f md_center.xtc -pi -od mindist.xvg "
   ]
  }
 ],
 "metadata": {
  "kernelspec": {
   "display_name": "Python 3 (ipykernel)",
   "language": "python",
   "name": "python3"
  },
  "language_info": {
   "codemirror_mode": {
    "name": "ipython",
    "version": 3
   },
   "file_extension": ".py",
   "mimetype": "text/x-python",
   "name": "python",
   "nbconvert_exporter": "python",
   "pygments_lexer": "ipython3",
   "version": "3.11.3"
  }
 },
 "nbformat": 4,
 "nbformat_minor": 5
}
