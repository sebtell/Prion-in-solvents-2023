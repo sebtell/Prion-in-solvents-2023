{
 "cells": [
  {
   "cell_type": "code",
   "execution_count": null,
   "id": "22e46381",
   "metadata": {},
   "outputs": [],
   "source": [
    "import nglview as ng\n",
    "import matplotlib.pyplot as plt\n",
    "import numpy as np"
   ]
  },
  {
   "cell_type": "code",
   "execution_count": null,
   "id": "bba27b27",
   "metadata": {},
   "outputs": [],
   "source": [
    "cd results"
   ]
  },
  {
   "cell_type": "code",
   "execution_count": null,
   "id": "51f489e5",
   "metadata": {},
   "outputs": [],
   "source": [
    "!printf \"4\\n4\\n\" | gmx rms -s urea/input/em.tpr -f urea/input/md_noPBC.xtc -o urea/rmsd_xray.xvg -tu ns -xvg none"
   ]
  },
  {
   "cell_type": "code",
   "execution_count": null,
   "id": "848ac00b",
   "metadata": {},
   "outputs": [],
   "source": [
    "time,rmsd = np.loadtxt(\"urea/rmsd_xray.xvg\", comments=[\"@\", \"#\"], unpack=True)\n",
    "\n",
    "fig = plt.figure(figsize=(5,5))\n",
    "ax = fig.add_subplot(111)\n",
    "ax.fill_between(time[60:],rmsd[60:], color=\"green\", linestyle=\"-\", alpha=0.3)\n",
    "\n",
    "ax.plot(time,rmsd, color=\"black\", linestyle=\"-\")\n",
    "ax.set_xlabel(\"Time (ns)\")\n",
    "ax.set_ylabel(r\"C$_\\alpha$ RMSD (nm)\")\n",
    "\n",
    "plt.title('Urea\\n' + 'Backbone after lst sq fit to backbone', fontsize = 10)\n",
    "plt.savefig(\"rmsd_Urea.png\", format=\"png\", dpi=600)\n",
    "plt.show()"
   ]
  },
  {
   "cell_type": "code",
   "execution_count": null,
   "id": "42ebbfec",
   "metadata": {},
   "outputs": [],
   "source": [
    "!echo \"1\" | gmx gyrate -f urea/input/md_noPBC.xtc -s urea/input/md.tpr -o urea/gyrate.xvg -xvg none "
   ]
  },
  {
   "cell_type": "code",
   "execution_count": null,
   "id": "3760eebc",
   "metadata": {},
   "outputs": [],
   "source": [
    "time, gyration, xaxis, yaxis, zaxis = np.loadtxt(\"urea/gyrate.xvg\", comments=[\"@\", \"#\"], unpack=True)\n",
    "\n",
    "fig = plt.figure(figsize=(5,5))\n",
    "ax = fig.add_subplot(111)\n",
    "\n",
    "ax.plot(time,gyration, color=\"black\", linestyle=\"-\")\n",
    "ax.set_xlabel(\"Time (ps)\")\n",
    "ax.set_ylabel(\"Rg (nm)\")\n",
    "\n",
    "plt.title('Urea')\n",
    "plt.savefig(\"gyration_Urea.png\", format=\"png\", dpi=600)\n",
    "plt.show()"
   ]
  },
  {
   "cell_type": "code",
   "execution_count": null,
   "id": "a9e64a9e",
   "metadata": {},
   "outputs": [],
   "source": [
    "!printf \"1\\n4\\n\" | gmx trjconv -s urea/input/md.tpr -f urea/input/md_noPBC.xtc -o urea/input/backbone_center.xtc -center -pbc mol"
   ]
  },
  {
   "cell_type": "code",
   "execution_count": null,
   "id": "37a7c5b3",
   "metadata": {},
   "outputs": [],
   "source": [
    "!printf \"4\\n4\\n\" | gmx cluster -f urea/input/md_noPBC.xtc -s urea/input/md.tpr -cl urea/central.pdb -b 600"
   ]
  },
  {
   "cell_type": "code",
   "execution_count": null,
   "id": "81bc27d0",
   "metadata": {},
   "outputs": [],
   "source": [
    "!printf \"4\\n\" | gmx rmsf -f urea/input/backbone_center.xtc -s urea/central -o urea/rmsf.xvg -res -b 600"
   ]
  },
  {
   "cell_type": "code",
   "execution_count": null,
   "id": "2b805b06",
   "metadata": {},
   "outputs": [],
   "source": [
    "res,rmsf = np.loadtxt(\"urea/rmsf.xvg\", comments=[\"@\", \"#\"], unpack=True)\n",
    "\n",
    "fig = plt.figure(figsize=(5,5))\n",
    "ax = fig.add_subplot(111)\n",
    "ax.fill_between(res,rmsf, color=\"black\", linestyle=\"-\", alpha=0.3)\n",
    "\n",
    "ax.plot(res,rmsf, color=\"black\", linestyle=\"-\")\n",
    "ax.set_xlabel(\"residue\")\n",
    "ax.set_ylabel(r\"C$_\\alpha$ RMSF (nm)\")\n",
    "\n",
    "plt.title('Urea')\n",
    "plt.savefig(\"rmsf_Urea.png\", format=\"png\", dpi=600)\n",
    "plt.show()"
   ]
  },
  {
   "cell_type": "code",
   "execution_count": null,
   "id": "43d5cbdd",
   "metadata": {},
   "outputs": [],
   "source": [
    "!printf \"1\\n\" | gmx msd -f urea/input/md_noPBC.xtc -s urea/input/md.tpr -o urea/msd.xvg -beginfit 150  -endfit 400\n"
   ]
  },
  {
   "cell_type": "code",
   "execution_count": null,
   "id": "dfe0254f",
   "metadata": {},
   "outputs": [],
   "source": [
    "time,msd = np.loadtxt(\"urea/msd.xvg\", comments=[\"@\", \"#\"], unpack=True)\n",
    "\n",
    "fig = plt.figure(figsize=(5,5))\n",
    "ax = fig.add_subplot(111)\n",
    "\n",
    "ax.plot(time,msd, color=\"black\", linestyle=\"-\", label=\"Urea\")\n",
    "ax.set_xlabel(\"Time (ps)\")\n",
    "ax.set_ylabel(\"MSD ($nm^2$)\")\n",
    "\n",
    "time_part = time[15:41]\n",
    "msd_part = msd[15:41]+0.05\n",
    "ax.plot(time_part,msd_part, color=\"red\", linestyle=\"-\", label=\"Time interval 150 to 400 ps\")\n",
    "\n",
    "plt.title('D=0.1691 (1e-5 $cm^2$/s)') #found in the msd.xvg file\n",
    "plt.legend(loc='lower right')\n",
    "plt.savefig(\"MSD_Urea.png\", format=\"png\", dpi=600)\n",
    "plt.show()"
   ]
  },
  {
   "cell_type": "code",
   "execution_count": null,
   "id": "8c63c51e",
   "metadata": {},
   "outputs": [],
   "source": [
    "!printf \"1\\n\" | gmx sasa -f urea/input/md_noPBC.xtc -s urea/input/md.tpr -o urea/area.xvg -or urea/area_res.xvg -b 600"
   ]
  },
  {
   "cell_type": "code",
   "execution_count": null,
   "id": "b625e321",
   "metadata": {},
   "outputs": [],
   "source": [
    "res,area = np.loadtxt(\"urea/area.xvg\", comments=[\"@\", \"#\"], unpack=True)\n",
    "\n",
    "fig = plt.figure(figsize=(5,5))\n",
    "ax = fig.add_subplot(111)\n",
    "ax.fill_between(res,area,y2=238, color=\"blue\", linestyle=\"-\", alpha=0.3)\n",
    "\n",
    "ax.plot(res,area, color=\"black\", linestyle=\"-\")\n",
    "ax.set_xlabel(\"Time (ps)\")\n",
    "ax.set_ylabel(\"Solvent Accessible Surface Area ($nm^2$)\")\n",
    "\n",
    "plt.title('Urea')\n",
    "plt.savefig(\"SASA_Urea.png\", format=\"png\", dpi=600)\n",
    "plt.show()"
   ]
  },
  {
   "cell_type": "code",
   "execution_count": null,
   "id": "737409b4",
   "metadata": {},
   "outputs": [],
   "source": [
    "res,area,standdev = np.loadtxt(\"urea/area_res.xvg\", comments=[\"@\", \"#\"], unpack=True)\n",
    "\n",
    "fig = plt.figure(figsize=(10,5))\n",
    "ax = fig.add_subplot(111)\n",
    "ax.fill_between(res,area, color=\"blue\", linestyle=\"-\", alpha=0.3)\n",
    "\n",
    "ax.plot(res,area, color=\"black\", linestyle=\"-\")\n",
    "ax.set_xlabel(\"Residue\")\n",
    "ax.set_ylabel(\"Solvent Accessible Surface Area ($nm^2$)\")\n",
    "\n",
    "ax.plot(res,standdev, color=\"red\", linestyle=\"-\")\n",
    "ax.fill_between(res,standdev, color=\"red\", linestyle=\"-\", alpha=0.3)\n",
    "\n",
    "plt.title('Urea')\n",
    "plt.savefig(\"SASA_Res_Urea.png\", format=\"png\", dpi=600)\n",
    "plt.show()"
   ]
  }
 ],
 "metadata": {
  "kernelspec": {
   "display_name": "Python 3 (ipykernel)",
   "language": "python",
   "name": "python3"
  },
  "language_info": {
   "codemirror_mode": {
    "name": "ipython",
    "version": 3
   },
   "file_extension": ".py",
   "mimetype": "text/x-python",
   "name": "python",
   "nbconvert_exporter": "python",
   "pygments_lexer": "ipython3",
   "version": "3.11.3"
  }
 },
 "nbformat": 4,
 "nbformat_minor": 5
}
