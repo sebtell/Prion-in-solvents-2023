{
 "cells": [
  {
   "cell_type": "code",
   "execution_count": null,
   "id": "124382b8",
   "metadata": {},
   "outputs": [],
   "source": [
    "import nglview as ng\n",
    "import pandas as pd\n",
    "import matplotlib.pyplot as plt\n",
    "import numpy as np"
   ]
  },
  {
   "cell_type": "code",
   "execution_count": null,
   "id": "409d59b1",
   "metadata": {},
   "outputs": [],
   "source": [
    "cd results_water"
   ]
  },
  {
   "cell_type": "code",
   "execution_count": null,
   "id": "2b818d3b",
   "metadata": {},
   "outputs": [],
   "source": [
    "!printf \"4\\n4\\n\" | gmx rms -s benzene/input/em.tpr -f benzene/input/md_noPBC.xtc -o benzene/rmsd_xray.xvg -tu ns -xvg none"
   ]
  },
  {
   "cell_type": "code",
   "execution_count": null,
   "id": "1f73fe8d",
   "metadata": {},
   "outputs": [],
   "source": [
    "time,rmsd = np.loadtxt(\"benzene/rmsd_xray.xvg\", comments=[\"@\", \"#\"], unpack=True)\n",
    "\n",
    "fig = plt.figure(figsize=(5,5))\n",
    "ax = fig.add_subplot(111)\n",
    "ax.fill_between(time[80:],rmsd[80:], color=\"green\", linestyle=\"-\", alpha=0.3)\n",
    "\n",
    "ax.plot(time,rmsd, color=\"black\", linestyle=\"-\")\n",
    "ax.set_xlabel(\"Time (ns)\")\n",
    "ax.set_ylabel(r\"C$_\\alpha$ RMSD (nm)\")\n",
    "\n",
    "plt.title('Benzene\\n' + 'Backbone after lst sq fit to backbone', fontsize = 10)\n",
    "plt.savefig(\"rmsd_Benzene.png\", format=\"png\", dpi=600)\n",
    "plt.show()"
   ]
  },
  {
   "cell_type": "code",
   "execution_count": null,
   "id": "b20cf5f6",
   "metadata": {},
   "outputs": [],
   "source": [
    "!echo \"1\" | gmx gyrate -f benzene/input/md_noPBC.xtc -s benzene/input/md.tpr -o benzene/gyrate.xvg -xvg none "
   ]
  },
  {
   "cell_type": "code",
   "execution_count": null,
   "id": "d1c4612f",
   "metadata": {},
   "outputs": [],
   "source": [
    "df = pd.read_csv('benzene/gyrate.xvg', sep='\\s+', header=None, names=['time','Rg'], usecols=[0, 1])\n",
    "df.plot('time')"
   ]
  },
  {
   "cell_type": "code",
   "execution_count": null,
   "id": "e8fd9460",
   "metadata": {},
   "outputs": [],
   "source": [
    "!printf \"1\\n4\\n\" | gmx trjconv -s benzene/input/md.tpr -f benzene/input/md.xtc -o benzene/input/backbone_center.xtc -center -pbc mol"
   ]
  },
  {
   "cell_type": "code",
   "execution_count": null,
   "id": "ee34b4a7",
   "metadata": {},
   "outputs": [],
   "source": [
    "!printf \"4\\n4\\n\" | gmx cluster -f benzene/input/md_noPBC.xtc -s benzene/input/md.tpr -cl benzene/central.pdb -b 800"
   ]
  },
  {
   "cell_type": "code",
   "execution_count": null,
   "id": "b0cce324",
   "metadata": {},
   "outputs": [],
   "source": [
    "!printf \"4\\n\" | gmx rmsf -f benzene/input/backbone_center.xtc -s benzene/central -o benzene/rmsf.xvg -res -b 800"
   ]
  },
  {
   "cell_type": "code",
   "execution_count": null,
   "id": "ba99b28d",
   "metadata": {},
   "outputs": [],
   "source": [
    "res,rmsf = np.loadtxt(\"benzene/rmsf.xvg\", comments=[\"@\", \"#\"], unpack=True)\n",
    "\n",
    "fig = plt.figure(figsize=(5,5))\n",
    "ax = fig.add_subplot(111)\n",
    "ax.fill_between(res,rmsf, color=\"black\", linestyle=\"-\", alpha=0.3)\n",
    "\n",
    "ax.plot(res,rmsf, color=\"black\", linestyle=\"-\")\n",
    "ax.set_xlabel(\"residue\")\n",
    "ax.set_ylabel(r\"C$_\\alpha$ RMSF (nm)\")\n",
    "\n",
    "plt.title('Benzene')\n",
    "plt.savefig(\"rmsf_Benzene.png\", format=\"png\", dpi=600)\n",
    "plt.show()"
   ]
  },
  {
   "cell_type": "code",
   "execution_count": null,
   "id": "89f4aab1",
   "metadata": {},
   "outputs": [],
   "source": [
    "!printf \"1\\n\" | gmx msd -f benzene/input/md_noPBC.xtc -s benzene/input/md.tpr -o benzene/msd.xvg -beginfit 100  -endfit 800"
   ]
  },
  {
   "cell_type": "code",
   "execution_count": null,
   "id": "64381a56",
   "metadata": {},
   "outputs": [],
   "source": [
    "time,msd = np.loadtxt(\"benzene/msd.xvg\", comments=[\"@\", \"#\"], unpack=True)\n",
    "\n",
    "fig = plt.figure(figsize=(5,5))\n",
    "ax = fig.add_subplot(111)\n",
    "\n",
    "ax.plot(time,msd, color=\"black\", linestyle=\"-\", label=\"Benzene\")\n",
    "ax.set_xlabel(\"Time (ps)\")\n",
    "ax.set_ylabel(\"MSD ($nm^2$)\")\n",
    "\n",
    "time_part = time[10:81]\n",
    "msd_part = msd[10:81]+0.05\n",
    "ax.plot(time_part,msd_part, color=\"red\", linestyle=\"-\", label=\"Time interval 100 to 800 ps\")\n",
    "\n",
    "plt.title('D=0.2201 (1e-5 $cm^2$/s)')\n",
    "plt.legend(loc='lower right')\n",
    "plt.savefig(\"MSD_Benzene.png\", format=\"png\", dpi=600)\n",
    "plt.show()"
   ]
  },
  {
   "cell_type": "code",
   "execution_count": null,
   "id": "b2e47c12",
   "metadata": {},
   "outputs": [],
   "source": [
    "!printf \"1\\n\" | gmx sasa -f benzene/input/md.xtc -s benzene/input/md.tpr -o benzene/area.xvg -or benzene/area_res.xvg -b 800"
   ]
  },
  {
   "cell_type": "code",
   "execution_count": null,
   "id": "c7ae51cb",
   "metadata": {},
   "outputs": [],
   "source": [
    "res,area = np.loadtxt(\"benzene/area.xvg\", comments=[\"@\", \"#\"], unpack=True)\n",
    "\n",
    "fig = plt.figure(figsize=(5,5))\n",
    "ax = fig.add_subplot(111)\n",
    "ax.fill_between(res,area,y2=215, color=\"blue\", linestyle=\"-\", alpha=0.3)\n",
    "\n",
    "ax.plot(res,area, color=\"black\", linestyle=\"-\")\n",
    "ax.set_xlabel(\"Time (ps)\")\n",
    "ax.set_ylabel(\"Solvent Accessible Surface Area ($nm^2$)\")\n",
    "\n",
    "plt.title('Benzene')\n",
    "plt.savefig(\"SASA_Benzene.png\", format=\"png\", dpi=600)\n",
    "plt.show()"
   ]
  },
  {
   "cell_type": "code",
   "execution_count": null,
   "id": "d9a3954f",
   "metadata": {},
   "outputs": [],
   "source": [
    "res,area,standdev = np.loadtxt(\"benzene/area_res.xvg\", comments=[\"@\", \"#\"], unpack=True)\n",
    "\n",
    "fig = plt.figure(figsize=(10,5))\n",
    "ax = fig.add_subplot(111)\n",
    "ax.fill_between(res,area, color=\"blue\", linestyle=\"-\", alpha=0.3)\n",
    "\n",
    "ax.plot(res,area, color=\"black\", linestyle=\"-\")\n",
    "ax.set_xlabel(\"Residue\")\n",
    "ax.set_ylabel(\"Solvent Accessible Surface Area ($nm^2$)\")\n",
    "\n",
    "ax.plot(res,standdev, color=\"red\", linestyle=\"-\")\n",
    "ax.fill_between(res,standdev, color=\"red\", linestyle=\"-\", alpha=0.3)\n",
    "\n",
    "plt.title('Benzene')\n",
    "plt.savefig(\"SASA_Res_Benzene.png\", format=\"png\", dpi=600)\n",
    "plt.show()"
   ]
  }
 ],
 "metadata": {
  "kernelspec": {
   "display_name": "Python 3 (ipykernel)",
   "language": "python",
   "name": "python3"
  },
  "language_info": {
   "codemirror_mode": {
    "name": "ipython",
    "version": 3
   },
   "file_extension": ".py",
   "mimetype": "text/x-python",
   "name": "python",
   "nbconvert_exporter": "python",
   "pygments_lexer": "ipython3",
   "version": "3.10.10"
  }
 },
 "nbformat": 4,
 "nbformat_minor": 5
}
