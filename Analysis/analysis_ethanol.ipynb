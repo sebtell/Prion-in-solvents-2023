{
 "cells": [
  {
   "cell_type": "code",
   "execution_count": null,
   "id": "8d6ec190",
   "metadata": {},
   "outputs": [],
   "source": [
    "import nglview as ng\n",
    "import pandas as pd\n",
    "import matplotlib.pyplot as plt\n",
    "import numpy as np"
   ]
  },
  {
   "cell_type": "code",
   "execution_count": null,
   "id": "5c349a76",
   "metadata": {},
   "outputs": [],
   "source": [
    "cd results"
   ]
  },
  {
   "cell_type": "code",
   "execution_count": null,
   "id": "99be7bd3",
   "metadata": {},
   "outputs": [],
   "source": [
    "!printf \"4\\n4\\n\" | gmx rms -s ethanol/input/em.tpr -f ethanol/input/md_noPBC.xtc -o ethanol/rmsd_xray.xvg -tu ns -xvg none"
   ]
  },
  {
   "cell_type": "code",
   "execution_count": null,
   "id": "58d1b1ad",
   "metadata": {},
   "outputs": [],
   "source": [
    "time,rmsd = np.loadtxt(\"ethanol/rmsd_xray.xvg\", comments=[\"@\", \"#\"], unpack=True)\n",
    "\n",
    "fig = plt.figure(figsize=(5,5))\n",
    "ax = fig.add_subplot(111)\n",
    "ax.fill_between(time[75:],rmsd[75:], color=\"green\", linestyle=\"-\", alpha=0.3)\n",
    "\n",
    "ax.plot(time,rmsd, color=\"black\", linestyle=\"-\")\n",
    "ax.set_xlabel(\"Time (ns)\")\n",
    "ax.set_ylabel(r\"C$_\\alpha$ RMSD (nm)\")\n",
    "\n",
    "plt.title('Ethanol\\n' + 'Backbone after lst sq fit to backbone', fontsize = 10)\n",
    "plt.savefig(\"rmsd_Ethanol.png\", format=\"png\", dpi=600)\n",
    "plt.show()"
   ]
  },
  {
   "cell_type": "code",
   "execution_count": null,
   "id": "48403395",
   "metadata": {},
   "outputs": [],
   "source": [
    "!echo \"1\" | gmx gyrate -f ethanol/input/md_noPBC.xtc -s ethanol/input/md.tpr -o ethanol/gyrate.xvg -xvg none"
   ]
  },
  {
   "cell_type": "code",
   "execution_count": null,
   "id": "c1cf224b",
   "metadata": {},
   "outputs": [],
   "source": [
    "df = pd.read_csv('ethanol/gyrate.xvg', sep='\\s+', header=None, names=['time','Rg'], usecols=[0, 1])\n",
    "df.plot('time')"
   ]
  },
  {
   "cell_type": "code",
   "execution_count": null,
   "id": "a93e1e3c",
   "metadata": {},
   "outputs": [],
   "source": [
    "!printf \"1\\n4\\n\" | gmx trjconv -s ethanol/input/md.tpr -f ethanol/input/md_noPBC.xtc -o ethanol/input/backbone_center.xtc -center -pbc mol"
   ]
  },
  {
   "cell_type": "code",
   "execution_count": null,
   "id": "60945e1f",
   "metadata": {},
   "outputs": [],
   "source": [
    "!printf \"4\\n4\\n\" | gmx cluster -f ethanol/input/md_noPBC.xtc -s ethanol/input/md.tpr -cl ethanol/central.pdb -b 750"
   ]
  },
  {
   "cell_type": "code",
   "execution_count": null,
   "id": "18097d74",
   "metadata": {},
   "outputs": [],
   "source": [
    "!printf \"4\\n\" | gmx rmsf -f ethanol/input/backbone_center.xtc -s ethanol/central -o ethanol/rmsf.xvg -res -b 750"
   ]
  },
  {
   "cell_type": "code",
   "execution_count": null,
   "id": "0656fe2b",
   "metadata": {},
   "outputs": [],
   "source": [
    "res,rmsf = np.loadtxt(\"ethanol/rmsf.xvg\", comments=[\"@\", \"#\"], unpack=True)\n",
    "\n",
    "fig = plt.figure(figsize=(5,5))\n",
    "ax = fig.add_subplot(111)\n",
    "ax.fill_between(res,rmsf, color=\"black\", linestyle=\"-\", alpha=0.3)\n",
    "\n",
    "ax.plot(res,rmsf, color=\"black\", linestyle=\"-\")\n",
    "ax.set_xlabel(\"residue\")\n",
    "ax.set_ylabel(r\"C$_\\alpha$ RMSF (nm)\")\n",
    "\n",
    "plt.title('Ethanol')\n",
    "plt.savefig(\"rmsf_Ethanol.png\", format=\"png\", dpi=600)\n",
    "plt.show()"
   ]
  },
  {
   "cell_type": "code",
   "execution_count": null,
   "id": "fe945901",
   "metadata": {},
   "outputs": [],
   "source": [
    "!printf \"1\\n\" | gmx msd -f ethanol/input/md_noPBC.xtc -s ethanol/input/md.tpr -o ethanol/msd.xvg -beginfit 400  -endfit 700"
   ]
  },
  {
   "cell_type": "code",
   "execution_count": null,
   "id": "836b2277",
   "metadata": {},
   "outputs": [],
   "source": [
    "time,msd = np.loadtxt(\"ethanol/msd.xvg\", comments=[\"@\", \"#\"], unpack=True)\n",
    "\n",
    "fig = plt.figure(figsize=(5,5))\n",
    "ax = fig.add_subplot(111)\n",
    "\n",
    "ax.plot(time,msd, color=\"black\", linestyle=\"-\", label=\"Ethanol\")\n",
    "ax.set_xlabel(\"Time (ps)\")\n",
    "ax.set_ylabel(\"MSD ($nm^2$)\")\n",
    "\n",
    "time_part = time[40:71]\n",
    "msd_part = msd[40:71]+0.05\n",
    "ax.plot(time_part,msd_part, color=\"red\", linestyle=\"-\", label=\"Time interval 400 to 700 ps\")\n",
    "\n",
    "plt.title('D=0.4626 (1e-5 $cm^2$/s)')\n",
    "plt.legend(loc='lower right')\n",
    "plt.savefig(\"MSD_Ethanol.png\", format=\"png\", dpi=600)\n",
    "plt.show()"
   ]
  },
  {
   "cell_type": "code",
   "execution_count": null,
   "id": "47a489b9",
   "metadata": {},
   "outputs": [],
   "source": [
    "!printf \"1\\n\" | gmx sasa -f ethanol/input/md_noPBC.xtc -s ethanol/input/md.tpr -o ethanol/area.xvg -or ethanol/area_res.xvg -b 750"
   ]
  },
  {
   "cell_type": "code",
   "execution_count": null,
   "id": "ed78d1b8",
   "metadata": {},
   "outputs": [],
   "source": [
    "res,area = np.loadtxt(\"ethanol/area.xvg\", comments=[\"@\", \"#\"], unpack=True)\n",
    "\n",
    "fig = plt.figure(figsize=(5,5))\n",
    "ax = fig.add_subplot(111)\n",
    "ax.fill_between(res,area,y2=233, color=\"blue\", linestyle=\"-\", alpha=0.3)\n",
    "\n",
    "ax.plot(res,area, color=\"black\", linestyle=\"-\")\n",
    "ax.set_xlabel(\"Time (ps)\")\n",
    "ax.set_ylabel(\"Solvent Accessible Surface Area ($nm^2$)\")\n",
    "\n",
    "plt.title('Ethanol')\n",
    "plt.savefig(\"SASA_Ethanol.png\", format=\"png\", dpi=600)\n",
    "plt.show()"
   ]
  },
  {
   "cell_type": "code",
   "execution_count": null,
   "id": "c71e82c6",
   "metadata": {},
   "outputs": [],
   "source": [
    "res,area,standdev = np.loadtxt(\"ethanol/area_res.xvg\", comments=[\"@\", \"#\"], unpack=True)\n",
    "\n",
    "fig = plt.figure(figsize=(10,5))\n",
    "ax = fig.add_subplot(111)\n",
    "ax.fill_between(res,area, color=\"blue\", linestyle=\"-\", alpha=0.3)\n",
    "\n",
    "ax.plot(res,area, color=\"black\", linestyle=\"-\")\n",
    "ax.set_xlabel(\"Residue\")\n",
    "ax.set_ylabel(\"Solvent Accessible Surface Area ($nm^2$)\")\n",
    "\n",
    "ax.plot(res,standdev, color=\"red\", linestyle=\"-\")\n",
    "ax.fill_between(res,standdev, color=\"red\", linestyle=\"-\", alpha=0.3)\n",
    "\n",
    "plt.title('Ethanol')\n",
    "plt.savefig(\"SASA_Res_Ethanol.png\", format=\"png\", dpi=600)\n",
    "plt.show()"
   ]
  }
 ],
 "metadata": {
  "kernelspec": {
   "display_name": "Python 3 (ipykernel)",
   "language": "python",
   "name": "python3"
  },
  "language_info": {
   "codemirror_mode": {
    "name": "ipython",
    "version": 3
   },
   "file_extension": ".py",
   "mimetype": "text/x-python",
   "name": "python",
   "nbconvert_exporter": "python",
   "pygments_lexer": "ipython3",
   "version": "3.10.10"
  }
 },
 "nbformat": 4,
 "nbformat_minor": 5
}
