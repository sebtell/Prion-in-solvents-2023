{
 "cells": [
  {
   "cell_type": "code",
   "execution_count": null,
   "id": "2b616ab7",
   "metadata": {},
   "outputs": [],
   "source": [
    "import nglview as ng\n",
    "import pandas as pd\n",
    "import matplotlib.pyplot as plt\n",
    "import numpy as np"
   ]
  },
  {
   "cell_type": "code",
   "execution_count": null,
   "id": "166f145e",
   "metadata": {},
   "outputs": [],
   "source": [
    "cd results"
   ]
  },
  {
   "cell_type": "code",
   "execution_count": null,
   "id": "a9cbda70",
   "metadata": {},
   "outputs": [],
   "source": [
    "!printf \"4\\n4\\n\" | gmx rms -s water/input/em.tpr -f water/input/md_noPBC.xtc -o water/rmsd_xray.xvg -tu ns -xvg none"
   ]
  },
  {
   "cell_type": "code",
   "execution_count": null,
   "id": "026262c3",
   "metadata": {},
   "outputs": [],
   "source": [
    "time,rmsd = np.loadtxt(\"water/rmsd_xray.xvg\", comments=[\"@\", \"#\"], unpack=True)\n",
    "\n",
    "fig = plt.figure(figsize=(5,5))\n",
    "ax = fig.add_subplot(111)\n",
    "ax.fill_between(time[40:],rmsd[40:], color=\"green\", linestyle=\"-\", alpha=0.3)\n",
    "\n",
    "ax.plot(time,rmsd, color=\"black\", linestyle=\"-\")\n",
    "ax.set_xlabel(\"Time (ns)\")\n",
    "ax.set_ylabel(r\"C$_\\alpha$ RMSD (nm)\")\n",
    "\n",
    "plt.title('Water\\n' + 'Backbone after lst sq fit to backbone', fontsize = 10)\n",
    "plt.savefig(\"rmsd_Water.png\", format=\"png\", dpi=600)\n",
    "plt.show()"
   ]
  },
  {
   "cell_type": "code",
   "execution_count": null,
   "id": "372ee9a0",
   "metadata": {},
   "outputs": [],
   "source": [
    "!echo \"1\" | gmx gyrate -f water/input/md_noPBC.xtc -s water/input/md.tpr -o water/gyrate.xvg -xvg none"
   ]
  },
  {
   "cell_type": "code",
   "execution_count": null,
   "id": "2a74a7d4",
   "metadata": {},
   "outputs": [],
   "source": [
    "df = pd.read_csv('water/gyrate.xvg', sep='\\s+', header=None, names=['time','Rg'], usecols=[0, 1])\n",
    "df.plot('time')"
   ]
  },
  {
   "cell_type": "code",
   "execution_count": null,
   "id": "35e1a22b",
   "metadata": {},
   "outputs": [],
   "source": [
    "!printf \"1\\n4\\n\" | gmx trjconv -s water/input/md.tpr -f water/input/md.xtc -o water/input/backbone_center.xtc -center -pbc mol"
   ]
  },
  {
   "cell_type": "code",
   "execution_count": null,
   "id": "569ab9dc",
   "metadata": {},
   "outputs": [],
   "source": [
    "!printf \"4\\n4\\n\" | gmx cluster -f water/input/md_noPBC.xtc -s water/input/md.tpr -cl water/central.pdb -b 400"
   ]
  },
  {
   "cell_type": "code",
   "execution_count": null,
   "id": "310abc02",
   "metadata": {},
   "outputs": [],
   "source": [
    "!printf \"4\\n\" | gmx rmsf -f water/input/backbone_center.xtc -s water/central -o water/rmsf.xvg -res -b 400"
   ]
  },
  {
   "cell_type": "code",
   "execution_count": null,
   "id": "93c64174",
   "metadata": {},
   "outputs": [],
   "source": [
    "res,rmsf = np.loadtxt(\"water/rmsf.xvg\", comments=[\"@\", \"#\"], unpack=True)\n",
    "\n",
    "fig = plt.figure(figsize=(5,5))\n",
    "ax = fig.add_subplot(111)\n",
    "ax.fill_between(res,rmsf, color=\"black\", linestyle=\"-\", alpha=0.3)\n",
    "\n",
    "\n",
    "ax.plot(res,rmsf, color=\"black\", linestyle=\"-\")\n",
    "ax.set_xlabel(\"residue\")\n",
    "ax.set_ylabel(r\"C$_\\alpha$ RMSF (nm)\")\n",
    "\n",
    "plt.title('Water')\n",
    "plt.savefig(\"rmsf_Water.png\", format=\"png\", dpi=600)\n",
    "plt.show()"
   ]
  },
  {
   "cell_type": "code",
   "execution_count": null,
   "id": "7a5ef657",
   "metadata": {},
   "outputs": [],
   "source": [
    "!printf \"1\\n\" | gmx msd -f water/input/md_noPBC.xtc -s water/input/md.tpr -o water/msd.xvg -beginfit 650  -endfit 800"
   ]
  },
  {
   "cell_type": "code",
   "execution_count": null,
   "id": "7c0768d3",
   "metadata": {},
   "outputs": [],
   "source": [
    "time,msd = np.loadtxt(\"water/msd.xvg\", comments=[\"@\", \"#\"], unpack=True)\n",
    "\n",
    "fig = plt.figure(figsize=(5,5))\n",
    "ax = fig.add_subplot(111)\n",
    "\n",
    "ax.plot(time,msd, color=\"black\", linestyle=\"-\", label=\"Water\")\n",
    "ax.set_xlabel(\"Time (ps)\")\n",
    "ax.set_ylabel(\"MSD ($nm^2$)\")\n",
    "\n",
    "time_part = time[65:81]\n",
    "msd_part = msd[65:81]+0.05\n",
    "ax.plot(time_part,msd_part, color=\"red\", linestyle=\"-\", label=\"Time interval 650 to 800 ps\")\n",
    "\n",
    "plt.title('D=0.5995 (1e-5 $cm^2$/s)')\n",
    "plt.legend(loc='lower right')\n",
    "plt.savefig(\"MSD_Water.png\", format=\"png\", dpi=600)\n",
    "plt.show()"
   ]
  },
  {
   "cell_type": "code",
   "execution_count": null,
   "id": "517b3926",
   "metadata": {},
   "outputs": [],
   "source": [
    "!printf \"1\\n\" | gmx sasa -f water/input/md.xtc -s water/input/md.tpr -o water/area.xvg -or water/area_res.xvg -b 400"
   ]
  },
  {
   "cell_type": "code",
   "execution_count": null,
   "id": "4298228d",
   "metadata": {},
   "outputs": [],
   "source": [
    "res,area = np.loadtxt(\"water/area.xvg\", comments=[\"@\", \"#\"], unpack=True)\n",
    "\n",
    "fig = plt.figure(figsize=(5,5))\n",
    "ax = fig.add_subplot(111)\n",
    "ax.fill_between(res,area,y2=220, color=\"blue\", linestyle=\"-\", alpha=0.3)\n",
    "\n",
    "ax.plot(res,area, color=\"black\", linestyle=\"-\")\n",
    "ax.set_xlabel(\"Time (ps)\")\n",
    "ax.set_ylabel(\"Solvent Accessible Surface Area ($nm^2$)\")\n",
    "\n",
    "plt.title('Water')\n",
    "plt.savefig(\"SASA_Water.png\", format=\"png\", dpi=600)\n",
    "plt.show()"
   ]
  },
  {
   "cell_type": "code",
   "execution_count": null,
   "id": "bdbf3139",
   "metadata": {},
   "outputs": [],
   "source": [
    "res,area,standdev = np.loadtxt(\"water/area_res.xvg\", comments=[\"@\", \"#\"], unpack=True)\n",
    "\n",
    "fig = plt.figure(figsize=(10,5))\n",
    "ax = fig.add_subplot(111)\n",
    "ax.fill_between(res,area, color=\"blue\", linestyle=\"-\", alpha=0.3)\n",
    "\n",
    "ax.plot(res,area, color=\"black\", linestyle=\"-\")\n",
    "ax.set_xlabel(\"Residue\")\n",
    "ax.set_ylabel(\"Solvent Accessible Surface Area ($nm^2$)\")\n",
    "\n",
    "ax.plot(res,standdev, color=\"red\", linestyle=\"-\")\n",
    "ax.fill_between(res,standdev, color=\"red\", linestyle=\"-\", alpha=0.3)\n",
    "\n",
    "plt.title('Water')\n",
    "plt.savefig(\"SASA_Res_Water.png\", format=\"png\", dpi=600)\n",
    "plt.show()"
   ]
  }
 ],
 "metadata": {
  "kernelspec": {
   "display_name": "Python 3 (ipykernel)",
   "language": "python",
   "name": "python3"
  },
  "language_info": {
   "codemirror_mode": {
    "name": "ipython",
    "version": 3
   },
   "file_extension": ".py",
   "mimetype": "text/x-python",
   "name": "python",
   "nbconvert_exporter": "python",
   "pygments_lexer": "ipython3",
   "version": "3.10.10"
  }
 },
 "nbformat": 4,
 "nbformat_minor": 5
}
